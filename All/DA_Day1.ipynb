{
 "cells": [
  {
   "cell_type": "code",
   "execution_count": 1,
   "id": "381a2e60-a784-4a50-972c-caa64ceade43",
   "metadata": {},
   "outputs": [
    {
     "name": "stdout",
     "output_type": "stream",
     "text": [
      "Python 3.11.7\n"
     ]
    }
   ],
   "source": [
    "#6/01/2025\n",
    "!python --version"
   ]
  },
  {
   "cell_type": "code",
   "execution_count": 2,
   "id": "9f5f236a-e0c4-4e33-af83-f29b66000ce6",
   "metadata": {},
   "outputs": [
    {
     "data": {
      "text/plain": [
       "'C:\\\\Users\\\\Vaishnavi\\\\Godrej_data_analytics\\\\All'"
      ]
     },
     "execution_count": 2,
     "metadata": {},
     "output_type": "execute_result"
    }
   ],
   "source": [
    "pwd"
   ]
  },
  {
   "cell_type": "markdown",
   "id": "4db7879e-dcec-475b-aa59-1117f653c668",
   "metadata": {},
   "source": [
    "<b>#DATA TYPES"
   ]
  },
  {
   "cell_type": "code",
   "execution_count": 3,
   "id": "3f9f4bdd-b6bc-435d-a6a1-66cc3af82cdf",
   "metadata": {},
   "outputs": [],
   "source": [
    "#number\n",
    "#boolean\n",
    "#string\n",
    "#complex numbers"
   ]
  },
  {
   "cell_type": "code",
   "execution_count": 4,
   "id": "539e484c-5d6e-4220-a348-5452d6db5220",
   "metadata": {},
   "outputs": [
    {
     "data": {
      "text/plain": [
       "10"
      ]
     },
     "execution_count": 4,
     "metadata": {},
     "output_type": "execute_result"
    }
   ],
   "source": [
    "4+6"
   ]
  },
  {
   "cell_type": "code",
   "execution_count": 5,
   "id": "7bbd6623-2894-48ce-b853-69898a38e0df",
   "metadata": {},
   "outputs": [
    {
     "data": {
      "text/plain": [
       "1"
      ]
     },
     "execution_count": 5,
     "metadata": {},
     "output_type": "execute_result"
    }
   ],
   "source": [
    "5%2"
   ]
  },
  {
   "cell_type": "code",
   "execution_count": 6,
   "id": "88656aff-8bf1-4d24-8b6a-2ccb9b84373d",
   "metadata": {},
   "outputs": [
    {
     "data": {
      "text/plain": [
       "2"
      ]
     },
     "execution_count": 6,
     "metadata": {},
     "output_type": "execute_result"
    }
   ],
   "source": [
    "5//2"
   ]
  },
  {
   "cell_type": "code",
   "execution_count": 7,
   "id": "9d45081c-59a9-4968-b378-d16079369819",
   "metadata": {},
   "outputs": [
    {
     "data": {
      "text/plain": [
       "16"
      ]
     },
     "execution_count": 7,
     "metadata": {},
     "output_type": "execute_result"
    }
   ],
   "source": [
    "4**2"
   ]
  },
  {
   "cell_type": "code",
   "execution_count": 8,
   "id": "5e265d07-4778-4e4d-bf40-63b9918bab8d",
   "metadata": {},
   "outputs": [
    {
     "data": {
      "text/plain": [
       "2369.4"
      ]
     },
     "execution_count": 8,
     "metadata": {},
     "output_type": "execute_result"
    }
   ],
   "source": [
    "5+7**4-6/2*3**4/5-8/2+4*4\n",
    "#3**4\n",
    "#6/2\n",
    "#powers==> are right to left associative\n",
    "#add sub mul div==> left to right associative"
   ]
  },
  {
   "cell_type": "code",
   "execution_count": 9,
   "id": "6207d86b-32e7-4b33-818d-9135d43e193c",
   "metadata": {},
   "outputs": [
    {
     "data": {
      "text/plain": [
       "10"
      ]
     },
     "execution_count": 9,
     "metadata": {},
     "output_type": "execute_result"
    }
   ],
   "source": [
    "True+5+False+True+2+False+True\n",
    "#true=1\n",
    "#false=0"
   ]
  },
  {
   "cell_type": "markdown",
   "id": "8b20bf7e-1aa1-4078-bd01-ae227fc947b8",
   "metadata": {},
   "source": [
    "<b>#Type Casting"
   ]
  },
  {
   "cell_type": "code",
   "execution_count": 10,
   "id": "6a6dbb0a-33c8-4ae4-8056-2d1d34c0daef",
   "metadata": {},
   "outputs": [
    {
     "data": {
      "text/plain": [
       "int"
      ]
     },
     "execution_count": 10,
     "metadata": {},
     "output_type": "execute_result"
    }
   ],
   "source": [
    "a=20\n",
    "type(a)"
   ]
  },
  {
   "cell_type": "code",
   "execution_count": 11,
   "id": "feddfa97-df37-4c84-a44f-450d646564c2",
   "metadata": {},
   "outputs": [
    {
     "data": {
      "text/plain": [
       "True"
      ]
     },
     "execution_count": 11,
     "metadata": {},
     "output_type": "execute_result"
    }
   ],
   "source": [
    "bool(1)"
   ]
  },
  {
   "cell_type": "code",
   "execution_count": 12,
   "id": "14dc5bf2-bbbd-4557-bd9d-3b567eb8170f",
   "metadata": {},
   "outputs": [
    {
     "data": {
      "text/plain": [
       "False"
      ]
     },
     "execution_count": 12,
     "metadata": {},
     "output_type": "execute_result"
    }
   ],
   "source": [
    "bool(0)\n",
    "#only bool of 0 is false otherwise true"
   ]
  },
  {
   "cell_type": "code",
   "execution_count": 13,
   "id": "e2af4653-a7f7-4529-b676-ff7095e10c7f",
   "metadata": {},
   "outputs": [
    {
     "data": {
      "text/plain": [
       "True"
      ]
     },
     "execution_count": 13,
     "metadata": {},
     "output_type": "execute_result"
    }
   ],
   "source": [
    "bool(-1)"
   ]
  },
  {
   "cell_type": "code",
   "execution_count": 14,
   "id": "8f31fbdd-99f7-4cf3-b988-ccb4cfe70b8b",
   "metadata": {},
   "outputs": [
    {
     "data": {
      "text/plain": [
       "True"
      ]
     },
     "execution_count": 14,
     "metadata": {},
     "output_type": "execute_result"
    }
   ],
   "source": [
    "bool(-2)"
   ]
  },
  {
   "cell_type": "markdown",
   "id": "0e809baa-92d1-455e-986d-697db4930c72",
   "metadata": {},
   "source": [
    "<b>#INDEXING"
   ]
  },
  {
   "cell_type": "code",
   "execution_count": 15,
   "id": "963b28cc-05a9-4c3f-8ab5-db28588dc3bd",
   "metadata": {},
   "outputs": [
    {
     "data": {
      "text/plain": [
       "'abcdefghijk'"
      ]
     },
     "execution_count": 15,
     "metadata": {},
     "output_type": "execute_result"
    }
   ],
   "source": [
    "s=\"abcdefghijk\"\n",
    "s\n"
   ]
  },
  {
   "cell_type": "code",
   "execution_count": 16,
   "id": "66b930cd-50b6-4a41-906b-b03139db775a",
   "metadata": {},
   "outputs": [
    {
     "data": {
      "text/plain": [
       "str"
      ]
     },
     "execution_count": 16,
     "metadata": {},
     "output_type": "execute_result"
    }
   ],
   "source": [
    "type(s)"
   ]
  },
  {
   "cell_type": "code",
   "execution_count": 17,
   "id": "71232e4c-c730-40df-96ee-9c173565cf9f",
   "metadata": {},
   "outputs": [],
   "source": [
    "#a b c d e f g h i j k\n",
    "#0 1 2 3 4 5 6 7 8 9 10\n",
    "#-11-10-9-8-7-6-5-4-3-2-1\n",
    "\n",
    "#.....-5 -4 -3 -2 -1 0 1 2 3 4 5........"
   ]
  },
  {
   "cell_type": "code",
   "execution_count": 18,
   "id": "46eb3e54-e78a-4ea5-a334-f5d58f7ea01b",
   "metadata": {},
   "outputs": [
    {
     "data": {
      "text/plain": [
       "'def'"
      ]
     },
     "execution_count": 18,
     "metadata": {},
     "output_type": "execute_result"
    }
   ],
   "source": [
    "#'def'\n",
    "s[3:6]"
   ]
  },
  {
   "cell_type": "code",
   "execution_count": 19,
   "id": "959b4ad2-1305-4531-bcee-6986a14c8aa6",
   "metadata": {},
   "outputs": [
    {
     "ename": "IndexError",
     "evalue": "string index out of range",
     "output_type": "error",
     "traceback": [
      "\u001b[1;31m---------------------------------------------------------------------------\u001b[0m",
      "\u001b[1;31mIndexError\u001b[0m                                Traceback (most recent call last)",
      "Cell \u001b[1;32mIn[19], line 1\u001b[0m\n\u001b[1;32m----> 1\u001b[0m s[\u001b[38;5;241m11\u001b[39m]\n",
      "\u001b[1;31mIndexError\u001b[0m: string index out of range"
     ]
    }
   ],
   "source": [
    "s[11]\n",
    "#string index out of range"
   ]
  },
  {
   "cell_type": "code",
   "execution_count": 22,
   "id": "602a406c-a002-4cce-9f80-5dcd03c5057a",
   "metadata": {},
   "outputs": [
    {
     "data": {
      "text/plain": [
       "''"
      ]
     },
     "execution_count": 22,
     "metadata": {},
     "output_type": "execute_result"
    }
   ],
   "source": [
    "s[12:20]"
   ]
  },
  {
   "cell_type": "code",
   "execution_count": 20,
   "id": "71ef3c32-a1c4-4b22-beed-71cd47ec38c7",
   "metadata": {},
   "outputs": [
    {
     "data": {
      "text/plain": [
       "'abcdefghijk'"
      ]
     },
     "execution_count": 20,
     "metadata": {},
     "output_type": "execute_result"
    }
   ],
   "source": [
    "s[:200]"
   ]
  },
  {
   "cell_type": "code",
   "execution_count": 23,
   "id": "afff2e0a-c4bd-487e-93aa-de0b822f3464",
   "metadata": {},
   "outputs": [
    {
     "data": {
      "text/plain": [
       "''"
      ]
     },
     "execution_count": 23,
     "metadata": {},
     "output_type": "execute_result"
    }
   ],
   "source": [
    "s[-2:-8]"
   ]
  },
  {
   "cell_type": "code",
   "execution_count": 24,
   "id": "c3dd8746-55cf-49c3-85c7-c2d24f7ffcde",
   "metadata": {},
   "outputs": [
    {
     "data": {
      "text/plain": [
       "'abcdefghijk'"
      ]
     },
     "execution_count": 24,
     "metadata": {},
     "output_type": "execute_result"
    }
   ],
   "source": [
    "s"
   ]
  },
  {
   "cell_type": "code",
   "execution_count": 25,
   "id": "fa223a22-194a-410e-b3c0-74f6ef4c241d",
   "metadata": {},
   "outputs": [
    {
     "data": {
      "text/plain": [
       "'jihgfe'"
      ]
     },
     "execution_count": 25,
     "metadata": {},
     "output_type": "execute_result"
    }
   ],
   "source": [
    "s[-2:-8:-1]"
   ]
  },
  {
   "cell_type": "code",
   "execution_count": 26,
   "id": "23a4f5b5-d576-4a77-9e41-dff189bd10d3",
   "metadata": {},
   "outputs": [],
   "source": [
    "#a b c d e f g h i j k\n",
    "#0    1   2   3    4   5   6   7   8   9  10\n",
    "#-11 -10 -9  -8   -7  -6  -5  -4  -3  -2  -1\n",
    "\n",
    "#.....-5 -4 -3 -2 -1 0 1 2 3 4 5........"
   ]
  },
  {
   "cell_type": "code",
   "execution_count": 27,
   "id": "513d75cd-66c1-4e59-9e9c-06e3d051ca74",
   "metadata": {},
   "outputs": [
    {
     "data": {
      "text/plain": [
       "''"
      ]
     },
     "execution_count": 27,
     "metadata": {},
     "output_type": "execute_result"
    }
   ],
   "source": [
    "s[-3:8]\n",
    "#start and stop is same"
   ]
  },
  {
   "cell_type": "code",
   "execution_count": 28,
   "id": "73771c49-a337-43e9-9c68-efde94857d86",
   "metadata": {},
   "outputs": [
    {
     "data": {
      "text/plain": [
       "'ij'"
      ]
     },
     "execution_count": 28,
     "metadata": {},
     "output_type": "execute_result"
    }
   ],
   "source": [
    "s[-3:10]"
   ]
  },
  {
   "cell_type": "code",
   "execution_count": 29,
   "id": "43e4a358-8fb5-4933-94a4-f800aafc6983",
   "metadata": {},
   "outputs": [
    {
     "name": "stdin",
     "output_type": "stream",
     "text": [
      "Enter the number: 738\n"
     ]
    },
    {
     "name": "stdout",
     "output_type": "stream",
     "text": [
      "738\n",
      "<class 'str'>\n",
      "837\n",
      "<class 'int'>\n",
      "1575\n",
      "<class 'str'>\n",
      "Number is : 1575\n",
      "After Adding the Number is: 7326\n",
      "reverse is: 6237\n",
      "Number is : 7326\n",
      "After Adding the Number is: 13563\n",
      "reverse is: 36531\n",
      "Number is : 13563\n",
      "After Adding the Number is: 50094\n",
      "reverse is: 49005\n",
      "Number is : 50094\n",
      "After Adding the Number is: 99099\n",
      "reverse is: 99099\n",
      "Palindrome is: 99099\n"
     ]
    },
    {
     "data": {
      "text/plain": [
       "\"Enter the number: 150\\n150 \\n<class 'str'>\\n51 #here 0 will be excluded.ie it is not considered\\n<class 'int'>\\n201   #150+51=201\\n<class 'str'>\\nNumber is : 201   #201+102\\nAfter Adding the Number is: 303\\nreverse is: 303\\nPalindrome is: 303\\n\""
      ]
     },
     "execution_count": 29,
     "metadata": {},
     "output_type": "execute_result"
    }
   ],
   "source": [
    "'''\n",
    "n1=88\n",
    "n2=88\n",
    "add 176\n",
    "    671\n",
    "add 847\n",
    "    748\n",
    "add 1595\n",
    "    5951\n",
    "add 7546\n",
    "    6457\n",
    "add 14003\n",
    "    30041\n",
    "add 44044\n",
    "    44044\n",
    "'''\n",
    "n1=input(\"Enter the number:\")\n",
    "print(n1)\n",
    "print(type(n1))\n",
    "n2=int(n1[::-1])\n",
    "print(n2)\n",
    "print(type(n2))\n",
    "n3=str(int(n1)+n2)\n",
    "print(n3)\n",
    "print(type(n3))\n",
    "while n3!=n3[::-1]:\n",
    "    print(\"Number is :\",n3)\n",
    "    n3=str(int(n3)+int(n3[::-1]))\n",
    "    print(\"After Adding the Number is:\",n3)\n",
    "    print(\"reverse is:\",n3[::-1])\n",
    "print(\"Palindrome is:\",n3)\n",
    "\n",
    "\"\"\"Enter the number: 150\n",
    "150 \n",
    "<class 'str'>\n",
    "51 #here 0 will be excluded.ie it is not considered\n",
    "<class 'int'>\n",
    "201   #150+51=201\n",
    "<class 'str'>\n",
    "Number is : 201   #201+102\n",
    "After Adding the Number is: 303\n",
    "reverse is: 303\n",
    "Palindrome is: 303\n",
    "\"\"\""
   ]
  },
  {
   "cell_type": "markdown",
   "id": "67c127f8-bfcf-46ee-bc39-50eb3bbefc2a",
   "metadata": {},
   "source": [
    "<b>#Lambda Expressions--Anonymous Function"
   ]
  },
  {
   "cell_type": "code",
   "execution_count": 32,
   "id": "65cd5168-90ef-4427-94e0-c4560cc6aa7d",
   "metadata": {},
   "outputs": [],
   "source": [
    "#Anonymous Function==>a function without name"
   ]
  },
  {
   "cell_type": "code",
   "execution_count": 33,
   "id": "1f5c7a09-6aef-4672-bb36-5bf1d3402379",
   "metadata": {},
   "outputs": [],
   "source": [
    "def find_cube(n):\n",
    "    return(n**3)"
   ]
  },
  {
   "cell_type": "code",
   "execution_count": 34,
   "id": "b0a76611-f8e6-412c-8bd2-0d473b463095",
   "metadata": {},
   "outputs": [
    {
     "data": {
      "text/plain": [
       "729"
      ]
     },
     "execution_count": 34,
     "metadata": {},
     "output_type": "execute_result"
    }
   ],
   "source": [
    "find_cube(9)"
   ]
  },
  {
   "cell_type": "code",
   "execution_count": 35,
   "id": "a6cb9fd6-d757-47b3-9350-064be39da304",
   "metadata": {},
   "outputs": [
    {
     "data": {
      "text/plain": [
       "729"
      ]
     },
     "execution_count": 35,
     "metadata": {},
     "output_type": "execute_result"
    }
   ],
   "source": [
    "t=lambda z:z**3\n",
    "t(9)"
   ]
  },
  {
   "cell_type": "code",
   "execution_count": 36,
   "id": "5f630726-eddc-46d8-a76c-d09a4b629ff4",
   "metadata": {},
   "outputs": [
    {
     "data": {
      "text/plain": [
       "['great', 'bye', 'python']"
      ]
     },
     "execution_count": 36,
     "metadata": {},
     "output_type": "execute_result"
    }
   ],
   "source": [
    "data=[\"soup\",\"salad\",\"great\",\"bye\",\"sachin\",\"python\"]\n",
    "#Write lambda expression which do not start with letter s\n",
    "list(filter(lambda x:x[0]!='s',data))"
   ]
  }
 ],
 "metadata": {
  "kernelspec": {
   "display_name": "Python 3 (ipykernel)",
   "language": "python",
   "name": "python3"
  },
  "language_info": {
   "codemirror_mode": {
    "name": "ipython",
    "version": 3
   },
   "file_extension": ".py",
   "mimetype": "text/x-python",
   "name": "python",
   "nbconvert_exporter": "python",
   "pygments_lexer": "ipython3",
   "version": "3.11.7"
  }
 },
 "nbformat": 4,
 "nbformat_minor": 5
}
